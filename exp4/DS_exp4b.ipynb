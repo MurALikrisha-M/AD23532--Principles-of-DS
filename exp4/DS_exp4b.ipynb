{
  "nbformat": 4,
  "nbformat_minor": 0,
  "metadata": {
    "colab": {
      "provenance": []
    },
    "kernelspec": {
      "name": "python3",
      "display_name": "Python 3"
    },
    "language_info": {
      "name": "python"
    }
  },
  "cells": [
    {
      "cell_type": "markdown",
      "source": [
        "IMPORT LIBRARIES"
      ],
      "metadata": {
        "id": "O9V1BYjY6u37"
      }
    },
    {
      "cell_type": "code",
      "source": [
        "import pandas as pd\n",
        "import spacy\n",
        "from sklearn.feature_extraction.text import TfidfVectorizer\n",
        "from sklearn.metrics.pairwise import cosine_similarity"
      ],
      "metadata": {
        "id": "pJLHjppV6yCw"
      },
      "execution_count": null,
      "outputs": []
    },
    {
      "cell_type": "markdown",
      "source": [
        "Load SpaCy english Model"
      ],
      "metadata": {
        "id": "KTyMgsma8VH3"
      }
    },
    {
      "cell_type": "code",
      "source": [
        "nlp = spacy.load(\"en_core_web_sm\")"
      ],
      "metadata": {
        "id": "HB4ts91k8Z6v"
      },
      "execution_count": null,
      "outputs": []
    },
    {
      "cell_type": "markdown",
      "source": [
        "Loading the dataSet"
      ],
      "metadata": {
        "id": "S7ibYOzd64fQ"
      }
    },
    {
      "cell_type": "code",
      "source": [
        "df = pd.read_csv(\"Reviews.csv\", on_bad_lines=\"skip\")\n",
        "df = df.head(1000)\n",
        "df = df.dropna(subset=[\"Text\"])\n",
        "print(df.head(5))"
      ],
      "metadata": {
        "colab": {
          "base_uri": "https://localhost:8080/"
        },
        "id": "q_KSdlvW7Ays",
        "outputId": "36b83221-75cc-4ddf-e901-6f73c872709b"
      },
      "execution_count": null,
      "outputs": [
        {
          "output_type": "stream",
          "name": "stdout",
          "text": [
            "   Id   ProductId          UserId                      ProfileName  \\\n",
            "0   1  B001E4KFG0  A3SGXH7AUHU8GW                       delmartian   \n",
            "1   2  B00813GRG4  A1D87F6ZCVE5NK                           dll pa   \n",
            "2   3  B000LQOCH0   ABXLMWJIXXAIN  Natalia Corres \"Natalia Corres\"   \n",
            "3   4  B000UA0QIQ  A395BORC6FGVXV                             Karl   \n",
            "4   5  B006K2ZZ7K  A1UQRSCLF8GW1T    Michael D. Bigham \"M. Wassir\"   \n",
            "\n",
            "   HelpfulnessNumerator  HelpfulnessDenominator  Score        Time  \\\n",
            "0                     1                       1      5  1303862400   \n",
            "1                     0                       0      1  1346976000   \n",
            "2                     1                       1      4  1219017600   \n",
            "3                     3                       3      2  1307923200   \n",
            "4                     0                       0      5  1350777600   \n",
            "\n",
            "                 Summary                                               Text  \n",
            "0  Good Quality Dog Food  I have bought several of the Vitality canned d...  \n",
            "1      Not as Advertised  Product arrived labeled as Jumbo Salted Peanut...  \n",
            "2  \"Delight\" says it all  This is a confection that has been around a fe...  \n",
            "3         Cough Medicine  If you are looking for the secret ingredient i...  \n",
            "4            Great taffy  Great taffy at a great price.  There was a wid...  \n"
          ]
        }
      ]
    },
    {
      "cell_type": "markdown",
      "source": [
        "Preprocess"
      ],
      "metadata": {
        "id": "LlVao4MZ7uWX"
      }
    },
    {
      "cell_type": "code",
      "source": [
        "def preprocess(text):\n",
        "    doc = nlp(text.lower())\n",
        "    tokens = [\n",
        "        token.lemma_ for token in doc\n",
        "        if token.is_alpha and not token.is_stop\n",
        "    ]\n",
        "    return \" \".join(tokens)\n",
        "df[\"cleaned_text\"] = df[\"Text\"].apply(preprocess)"
      ],
      "metadata": {
        "id": "SxfF6cHV8rP_"
      },
      "execution_count": null,
      "outputs": []
    },
    {
      "cell_type": "markdown",
      "source": [
        "Convert Reviews to TF-IDF"
      ],
      "metadata": {
        "id": "UPXOTfIA9Nyv"
      }
    },
    {
      "cell_type": "code",
      "source": [
        "vectorizer = TfidfVectorizer()\n",
        "X = vectorizer.fit_transform(df[\"cleaned_text\"])"
      ],
      "metadata": {
        "id": "jhlXNwQU9ORv"
      },
      "execution_count": null,
      "outputs": []
    },
    {
      "cell_type": "markdown",
      "source": [
        "Process User Query"
      ],
      "metadata": {
        "id": "W3j_Jjnh9QB3"
      }
    },
    {
      "cell_type": "code",
      "source": [
        "def process_query(query, top_k=5):\n",
        "    cleaned_query = preprocess(query)\n",
        "    query_vec = vectorizer.transform([cleaned_query])\n",
        "\n",
        "\n",
        "    sim_scores = cosine_similarity(query_vec, X).flatten()\n",
        "    top_indices = sim_scores.argsort()[-top_k:][::-1]\n",
        "\n",
        "    return df.iloc[top_indices][[\"Score\", \"Text\"]]"
      ],
      "metadata": {
        "id": "5PM_ToXB9Rf3"
      },
      "execution_count": null,
      "outputs": []
    },
    {
      "cell_type": "markdown",
      "source": [
        "EXAMPLE USAGE"
      ],
      "metadata": {
        "id": "WkQXBE0Y9csu"
      }
    },
    {
      "cell_type": "code",
      "source": [
        "results = process_query(\"great battery life and fast performance\", top_k=5)\n",
        "print(results)"
      ],
      "metadata": {
        "colab": {
          "base_uri": "https://localhost:8080/"
        },
        "id": "y8CDQxJx9eO_",
        "outputId": "6fd2e958-d6f5-41ea-ceba-b2f77bfa7085"
      },
      "execution_count": null,
      "outputs": [
        {
          "output_type": "stream",
          "name": "stdout",
          "text": [
            "     Score                                               Text\n",
            "27       4  I was so glad Amazon carried these batteries. ...\n",
            "849      5  I recently started using Bob's Red Mill Baking...\n",
            "239      5  Fresh,a great way to get a little chocolate in...\n",
            "492      5  A friend of mine brought these into work with ...\n",
            "452      5  This was the best deal ever. The delivery was ...\n"
          ]
        }
      ]
    }
  ]
}