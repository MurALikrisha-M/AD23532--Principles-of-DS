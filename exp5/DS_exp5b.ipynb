{
  "nbformat": 4,
  "nbformat_minor": 0,
  "metadata": {
    "colab": {
      "provenance": []
    },
    "kernelspec": {
      "name": "python3",
      "display_name": "Python 3"
    },
    "language_info": {
      "name": "python"
    }
  },
  "cells": [
    {
      "cell_type": "markdown",
      "metadata": {
        "id": "5672fa46"
      },
      "source": [
        "# Step 1 & 2: Install and Import Required Libraries"
      ]
    },
    {
      "cell_type": "code",
      "metadata": {
        "colab": {
          "base_uri": "https://localhost:8080/"
        },
        "id": "dd354a0c",
        "outputId": "d0a16b35-266f-4132-9478-fe6ce0be0e49"
      },
      "source": [
        "import pandas as pd\n",
        "import spacy\n",
        "import string\n",
        "import nltk\n",
        "from nltk.corpus import stopwords\n",
        "\n",
        "\n",
        "\n",
        "nltk.download('stopwords')\n",
        "stop_words = set(stopwords.words('english'))"
      ],
      "execution_count": 1,
      "outputs": [
        {
          "output_type": "stream",
          "name": "stderr",
          "text": [
            "[nltk_data] Downloading package stopwords to /root/nltk_data...\n",
            "[nltk_data]   Unzipping corpora/stopwords.zip.\n"
          ]
        }
      ]
    },
    {
      "cell_type": "markdown",
      "metadata": {
        "id": "d83ddc44"
      },
      "source": [
        "# Step 3: Load spaCy model"
      ]
    },
    {
      "cell_type": "code",
      "metadata": {
        "id": "77f270ff"
      },
      "source": [
        "nlp = spacy.load(\"en_core_web_sm\")"
      ],
      "execution_count": 2,
      "outputs": []
    },
    {
      "cell_type": "markdown",
      "metadata": {
        "id": "e6cff36a"
      },
      "source": [
        "# Step 4: Load the Dataset"
      ]
    },
    {
      "cell_type": "code",
      "metadata": {
        "id": "e559e1e9"
      },
      "source": [
        "df = pd.read_csv(\"Reviews.csv\", on_bad_lines = 'skip', engine = 'python')\n",
        "\n",
        "\n",
        "reviews = df['Text'].dropna()\n",
        "reviews = reviews.dropna()\n",
        "reviews = reviews[:10000]"
      ],
      "execution_count": 4,
      "outputs": []
    },
    {
      "cell_type": "markdown",
      "metadata": {
        "id": "032ef3e1"
      },
      "source": [
        "# Step 5: Preprocessing"
      ]
    },
    {
      "cell_type": "code",
      "metadata": {
        "id": "3581ab4c"
      },
      "source": [
        "def preprocess(text):\n",
        "    text = text.lower()\n",
        "    text = text.translate(str.maketrans(\"\", \"\", string.punctuation))\n",
        "    return text\n",
        "\n",
        "reviews = reviews.apply(preprocess)"
      ],
      "execution_count": 5,
      "outputs": []
    },
    {
      "cell_type": "markdown",
      "metadata": {
        "id": "93d12ce4"
      },
      "source": [
        "# Step 6: Tokenization and stopword removal"
      ]
    },
    {
      "cell_type": "code",
      "metadata": {
        "id": "f81ac3a3"
      },
      "source": [
        "def tokenize(text):\n",
        "    tokens = [word for word in text.split() if word.isalpha() and word not in stop_words]\n",
        "    return tokens\n",
        "\n",
        "tokenized_reviews = reviews.apply(tokenize)"
      ],
      "execution_count": 6,
      "outputs": []
    },
    {
      "cell_type": "markdown",
      "metadata": {
        "id": "26a89fe7"
      },
      "source": [
        "# Step 7 & 8: POS tagging and NER with spaCy"
      ]
    },
    {
      "cell_type": "code",
      "metadata": {
        "colab": {
          "base_uri": "https://localhost:8080/"
        },
        "id": "39b83a08",
        "outputId": "94357e30-729e-486f-a32c-b93318e54706"
      },
      "source": [
        "for i, review in enumerate(reviews[:5]):\n",
        "    print(f\"\\n--- Review {i+1} ---\")\n",
        "    doc = nlp(review)\n",
        "\n",
        "    print(\"POS Tags:\")\n",
        "    for token in doc:\n",
        "        print(f\"{token.text} -> {token.pos_}\")\n",
        "\n",
        "    print(\"\\nNamed Entities:\")\n",
        "    for ent in doc.ents:\n",
        "        print(f\"{ent.text} -> {ent.label_}\")"
      ],
      "execution_count": 7,
      "outputs": [
        {
          "output_type": "stream",
          "name": "stdout",
          "text": [
            "\n",
            "--- Review 1 ---\n",
            "POS Tags:\n",
            "i -> PRON\n",
            "have -> AUX\n",
            "bought -> VERB\n",
            "several -> ADJ\n",
            "of -> ADP\n",
            "the -> DET\n",
            "vitality -> NOUN\n",
            "canned -> VERB\n",
            "dog -> NOUN\n",
            "food -> NOUN\n",
            "products -> NOUN\n",
            "and -> CCONJ\n",
            "have -> AUX\n",
            "found -> VERB\n",
            "them -> PRON\n",
            "all -> PRON\n",
            "to -> PART\n",
            "be -> AUX\n",
            "of -> ADP\n",
            "good -> ADJ\n",
            "quality -> NOUN\n",
            "the -> DET\n",
            "product -> NOUN\n",
            "looks -> VERB\n",
            "more -> ADV\n",
            "like -> ADP\n",
            "a -> DET\n",
            "stew -> NOUN\n",
            "than -> ADP\n",
            "a -> DET\n",
            "processed -> VERB\n",
            "meat -> NOUN\n",
            "and -> CCONJ\n",
            "it -> PRON\n",
            "smells -> VERB\n",
            "better -> ADJ\n",
            "my -> PRON\n",
            "labrador -> NOUN\n",
            "is -> AUX\n",
            "finicky -> ADJ\n",
            "and -> CCONJ\n",
            "she -> PRON\n",
            "appreciates -> VERB\n",
            "this -> DET\n",
            "product -> NOUN\n",
            "better -> ADV\n",
            "than -> ADP\n",
            "  -> SPACE\n",
            "most -> ADV\n",
            "\n",
            "Named Entities:\n",
            "\n",
            "--- Review 2 ---\n",
            "POS Tags:\n",
            "product -> NOUN\n",
            "arrived -> AUX\n",
            "labeled -> VERB\n",
            "as -> ADP\n",
            "jumbo -> NOUN\n",
            "salted -> VERB\n",
            "peanutsthe -> ADJ\n",
            "peanuts -> NOUN\n",
            "were -> AUX\n",
            "actually -> ADV\n",
            "small -> ADJ\n",
            "sized -> ADJ\n",
            "unsalted -> VERB\n",
            "not -> PART\n",
            "sure -> ADJ\n",
            "if -> SCONJ\n",
            "this -> PRON\n",
            "was -> AUX\n",
            "an -> DET\n",
            "error -> NOUN\n",
            "or -> CCONJ\n",
            "if -> SCONJ\n",
            "the -> DET\n",
            "vendor -> NOUN\n",
            "intended -> VERB\n",
            "to -> PART\n",
            "represent -> VERB\n",
            "the -> DET\n",
            "product -> NOUN\n",
            "as -> ADP\n",
            "jumbo -> NOUN\n",
            "\n",
            "Named Entities:\n",
            "\n",
            "--- Review 3 ---\n",
            "POS Tags:\n",
            "this -> PRON\n",
            "is -> AUX\n",
            "a -> DET\n",
            "confection -> NOUN\n",
            "that -> PRON\n",
            "has -> AUX\n",
            "been -> AUX\n",
            "around -> ADP\n",
            "a -> DET\n",
            "few -> ADJ\n",
            "centuries -> NOUN\n",
            "  -> SPACE\n",
            "it -> PRON\n",
            "is -> AUX\n",
            "a -> DET\n",
            "light -> ADJ\n",
            "pillowy -> PROPN\n",
            "citrus -> NOUN\n",
            "gelatin -> VERB\n",
            "with -> ADP\n",
            "nuts -> NOUN\n",
            "  -> SPACE\n",
            "in -> ADP\n",
            "this -> DET\n",
            "case -> NOUN\n",
            "filberts -> NOUN\n",
            "and -> CCONJ\n",
            "it -> PRON\n",
            "is -> AUX\n",
            "cut -> VERB\n",
            "into -> ADP\n",
            "tiny -> ADJ\n",
            "squares -> NOUN\n",
            "and -> CCONJ\n",
            "then -> ADV\n",
            "liberally -> ADV\n",
            "coated -> VERB\n",
            "with -> ADP\n",
            "powdered -> ADJ\n",
            "sugar -> NOUN\n",
            "  -> SPACE\n",
            "and -> CCONJ\n",
            "it -> PRON\n",
            "is -> AUX\n",
            "a -> DET\n",
            "tiny -> ADJ\n",
            "mouthful -> ADJ\n",
            "of -> ADP\n",
            "heaven -> PROPN\n",
            "  -> SPACE\n",
            "not -> PART\n",
            "too -> ADV\n",
            "chewy -> NOUN\n",
            "and -> CCONJ\n",
            "very -> ADV\n",
            "flavorful -> ADJ\n",
            "  -> SPACE\n",
            "i -> PRON\n",
            "highly -> ADV\n",
            "recommend -> VERB\n",
            "this -> DET\n",
            "yummy -> ADJ\n",
            "treat -> NOUN\n",
            "  -> SPACE\n",
            "if -> SCONJ\n",
            "you -> PRON\n",
            "are -> AUX\n",
            "familiar -> ADJ\n",
            "with -> ADP\n",
            "the -> DET\n",
            "story -> NOUN\n",
            "of -> ADP\n",
            "cs -> PROPN\n",
            "lewis -> PROPN\n",
            "the -> DET\n",
            "lion -> NOUN\n",
            "the -> DET\n",
            "witch -> NOUN\n",
            "and -> CCONJ\n",
            "the -> DET\n",
            "wardrobe -> NOUN\n",
            "  -> SPACE\n",
            "this -> PRON\n",
            "is -> AUX\n",
            "the -> DET\n",
            "treat -> NOUN\n",
            "that -> PRON\n",
            "seduces -> VERB\n",
            "edmund -> ADJ\n",
            "into -> ADP\n",
            "selling -> VERB\n",
            "out -> ADP\n",
            "his -> PRON\n",
            "brother -> NOUN\n",
            "and -> CCONJ\n",
            "sisters -> NOUN\n",
            "to -> ADP\n",
            "the -> DET\n",
            "witch -> NOUN\n",
            "\n",
            "Named Entities:\n",
            "around a few centuries -> DATE\n",
            "\n",
            "--- Review 4 ---\n",
            "POS Tags:\n",
            "if -> SCONJ\n",
            "you -> PRON\n",
            "are -> AUX\n",
            "looking -> VERB\n",
            "for -> ADP\n",
            "the -> DET\n",
            "secret -> ADJ\n",
            "ingredient -> NOUN\n",
            "in -> ADP\n",
            "robitussin -> NOUN\n",
            "i -> PRON\n",
            "believe -> VERB\n",
            "i -> PRON\n",
            "have -> AUX\n",
            "found -> VERB\n",
            "it -> PRON\n",
            "  -> SPACE\n",
            "i -> PRON\n",
            "got -> VERB\n",
            "this -> PRON\n",
            "in -> ADP\n",
            "addition -> NOUN\n",
            "to -> ADP\n",
            "the -> DET\n",
            "root -> NOUN\n",
            "beer -> NOUN\n",
            "extract -> NOUN\n",
            "i -> PRON\n",
            "ordered -> VERB\n",
            "which -> PRON\n",
            "was -> AUX\n",
            "good -> ADJ\n",
            "and -> CCONJ\n",
            "made -> VERB\n",
            "some -> DET\n",
            "cherry -> NOUN\n",
            "soda -> NOUN\n",
            "  -> SPACE\n",
            "the -> DET\n",
            "flavor -> NOUN\n",
            "is -> AUX\n",
            "very -> ADV\n",
            "medicinal -> ADJ\n",
            "\n",
            "Named Entities:\n",
            "\n",
            "--- Review 5 ---\n",
            "POS Tags:\n",
            "great -> ADJ\n",
            "taffy -> NOUN\n",
            "at -> ADP\n",
            "a -> DET\n",
            "great -> ADJ\n",
            "price -> NOUN\n",
            "  -> SPACE\n",
            "there -> PRON\n",
            "was -> VERB\n",
            "a -> DET\n",
            "wide -> ADJ\n",
            "assortment -> NOUN\n",
            "of -> ADP\n",
            "yummy -> ADJ\n",
            "taffy -> NOUN\n",
            "  -> SPACE\n",
            "delivery -> NOUN\n",
            "was -> AUX\n",
            "very -> ADV\n",
            "quick -> ADJ\n",
            "  -> SPACE\n",
            "if -> SCONJ\n",
            "your -> PRON\n",
            "a -> DET\n",
            "taffy -> ADJ\n",
            "lover -> NOUN\n",
            "this -> PRON\n",
            "is -> AUX\n",
            "a -> DET\n",
            "deal -> NOUN\n",
            "\n",
            "Named Entities:\n"
          ]
        }
      ]
    }
  ]
}